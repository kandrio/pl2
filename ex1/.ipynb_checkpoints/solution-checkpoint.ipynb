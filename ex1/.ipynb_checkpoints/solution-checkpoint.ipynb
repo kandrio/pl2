{
 "cells": [
  {
   "cell_type": "code",
   "execution_count": 1,
   "metadata": {},
   "outputs": [],
   "source": [
    "class Tree:    \n",
    "    def __init__(self, index, weight, children):\n",
    "        self.index = index\n",
    "        self.children = children\n",
    "        self.weight = weight        \n",
    "        self.sub_weight = 0\n",
    "        self.root_weight = 0"
   ]
  },
  {
   "cell_type": "code",
   "execution_count": 2,
   "metadata": {},
   "outputs": [],
   "source": [
    "def dfs(node):\n",
    "    for child in node.children:\n",
    "        node.sub_weight += dfs(child)\n",
    "    return (node.sub_weight + node.weight)"
   ]
  },
  {
   "cell_type": "code",
   "execution_count": 3,
   "metadata": {},
   "outputs": [],
   "source": [
    "child5 = Tree(5, 20, [])\n",
    "child4 = Tree(4, 20, [child5])\n",
    "child1 = Tree(1, 10, [])\n",
    "child3 = Tree(3, 10, [child4, child1])\n",
    "root = Tree(2, 10, [child3])"
   ]
  },
  {
   "cell_type": "code",
   "execution_count": 4,
   "metadata": {},
   "outputs": [],
   "source": [
    "def dfs2(node, father_tot, father_weight):\n",
    "    node.root_weight = father_tot - node.weight + father_weight \n",
    "    curr_minim = node.root_weight\n",
    "    minim_index = node.index\n",
    "    print(node.index ,node.root_weight, node.sub_weight)\n",
    "    for child in node.children:\n",
    "        #minim = min(minim, dfs2(child, node.root_weight, node.weight))\n",
    "        next = dfs2(child, node.root_weight, node.weight)\n",
    "        if curr_minim == next[0]:\n",
    "            minim_index = min(minim_index, next[1])\n",
    "        elif curr_minim > next[0]:\n",
    "            minim_index = next[1]\n",
    "            curr_minim = next[0]\n",
    "    print(\"hassaa\", node.index, curr_minim, minim_index)\n",
    "    return (minim, min_i)"
   ]
  },
  {
   "cell_type": "code",
   "execution_count": 5,
   "metadata": {},
   "outputs": [
    {
     "data": {
      "text/plain": [
       "70"
      ]
     },
     "execution_count": 5,
     "metadata": {},
     "output_type": "execute_result"
    }
   ],
   "source": [
    "dfs(root)"
   ]
  },
  {
   "cell_type": "code",
   "execution_count": 6,
   "metadata": {},
   "outputs": [
    {
     "ename": "TypeError",
     "evalue": "dfs2() takes 3 positional arguments but 4 were given",
     "output_type": "error",
     "traceback": [
      "\u001b[0;31m---------------------------------------------------------------------------\u001b[0m",
      "\u001b[0;31mTypeError\u001b[0m                                 Traceback (most recent call last)",
      "\u001b[0;32m<ipython-input-6-72ae11bfc083>\u001b[0m in \u001b[0;36m<module>\u001b[0;34m\u001b[0m\n\u001b[0;32m----> 1\u001b[0;31m \u001b[0mdfs2\u001b[0m\u001b[0;34m(\u001b[0m\u001b[0mroot\u001b[0m\u001b[0;34m,\u001b[0m \u001b[0mroot\u001b[0m\u001b[0;34m.\u001b[0m\u001b[0msub_weight\u001b[0m\u001b[0;34m,\u001b[0m \u001b[0;36m10\u001b[0m\u001b[0;34m,\u001b[0m \u001b[0;36m2\u001b[0m\u001b[0;34m)\u001b[0m\u001b[0;34m\u001b[0m\u001b[0;34m\u001b[0m\u001b[0m\n\u001b[0m",
      "\u001b[0;31mTypeError\u001b[0m: dfs2() takes 3 positional arguments but 4 were given"
     ]
    }
   ],
   "source": [
    "dfs2(root, root.sub_weight, 10)"
   ]
  },
  {
   "cell_type": "code",
   "execution_count": null,
   "metadata": {},
   "outputs": [],
   "source": []
  }
 ],
 "metadata": {
  "kernelspec": {
   "display_name": "Python 3",
   "language": "python",
   "name": "python3"
  },
  "language_info": {
   "codemirror_mode": {
    "name": "ipython",
    "version": 3
   },
   "file_extension": ".py",
   "mimetype": "text/x-python",
   "name": "python",
   "nbconvert_exporter": "python",
   "pygments_lexer": "ipython3",
   "version": "3.8.5"
  }
 },
 "nbformat": 4,
 "nbformat_minor": 4
}
